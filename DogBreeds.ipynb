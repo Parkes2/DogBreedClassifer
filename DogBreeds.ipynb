{
 "cells": [
  {
   "cell_type": "code",
   "execution_count": 1,
   "metadata": {
    "id": "Y_aIgxJgkFQK"
   },
   "outputs": [],
   "source": [
    "#My Dog Breed Classifier"
   ]
  },
  {
   "cell_type": "code",
   "execution_count": 10,
   "metadata": {},
   "outputs": [],
   "source": [
    "!pip install -Uqq fastbook"
   ]
  },
  {
   "cell_type": "code",
   "execution_count": 3,
   "metadata": {
    "id": "rHzMcPKbkM9N",
    "scrolled": true
   },
   "outputs": [
    {
     "name": "stderr",
     "output_type": "stream",
     "text": [
      "/home/joseph/anaconda3/lib/python3.8/site-packages/torch/cuda/__init__.py:81: UserWarning: \n",
      "    Found GPU0 GeForce GTX 650 Ti which is of cuda capability 3.0.\n",
      "    PyTorch no longer supports this GPU because it is too old.\n",
      "    The minimum cuda capability that we support is 3.5.\n",
      "    \n",
      "  warnings.warn(old_gpu_warn % (d, name, major, capability[1]))\n",
      "/home/joseph/anaconda3/lib/python3.8/site-packages/fastbook/__init__.py:18: UserWarning: Missing `graphviz` - please run `conda install fastbook`\n",
      "  except ModuleNotFoundError: warn(\"Missing `graphviz` - please run `conda install fastbook`\")\n"
     ]
    }
   ],
   "source": [
    "from fastbook import *\n",
    "from fastai.vision.widgets import *"
   ]
  },
  {
   "cell_type": "code",
   "execution_count": 4,
   "metadata": {
    "id": "BYA0CvnSkcxp"
   },
   "outputs": [],
   "source": [
    "key = os.environ.get('AZURE_SEARCH_KEY' , '8300669115b74ee49c2fac22468582e2')"
   ]
  },
  {
   "cell_type": "code",
   "execution_count": 5,
   "metadata": {
    "id": "pD3DQ2dXkkhO"
   },
   "outputs": [
    {
     "data": {
      "text/html": [],
      "text/plain": [
       "<IPython.core.display.HTML object>"
      ]
     },
     "metadata": {},
     "output_type": "display_data"
    },
    {
     "data": {
      "text/html": [],
      "text/plain": [
       "<IPython.core.display.HTML object>"
      ]
     },
     "metadata": {},
     "output_type": "display_data"
    },
    {
     "data": {
      "text/html": [],
      "text/plain": [
       "<IPython.core.display.HTML object>"
      ]
     },
     "metadata": {},
     "output_type": "display_data"
    },
    {
     "data": {
      "text/html": [],
      "text/plain": [
       "<IPython.core.display.HTML object>"
      ]
     },
     "metadata": {},
     "output_type": "display_data"
    },
    {
     "data": {
      "text/html": [],
      "text/plain": [
       "<IPython.core.display.HTML object>"
      ]
     },
     "metadata": {},
     "output_type": "display_data"
    },
    {
     "data": {
      "text/html": [],
      "text/plain": [
       "<IPython.core.display.HTML object>"
      ]
     },
     "metadata": {},
     "output_type": "display_data"
    },
    {
     "data": {
      "text/html": [],
      "text/plain": [
       "<IPython.core.display.HTML object>"
      ]
     },
     "metadata": {},
     "output_type": "display_data"
    },
    {
     "data": {
      "text/html": [],
      "text/plain": [
       "<IPython.core.display.HTML object>"
      ]
     },
     "metadata": {},
     "output_type": "display_data"
    },
    {
     "data": {
      "text/html": [],
      "text/plain": [
       "<IPython.core.display.HTML object>"
      ]
     },
     "metadata": {},
     "output_type": "display_data"
    },
    {
     "data": {
      "text/html": [],
      "text/plain": [
       "<IPython.core.display.HTML object>"
      ]
     },
     "metadata": {},
     "output_type": "display_data"
    },
    {
     "data": {
      "text/html": [],
      "text/plain": [
       "<IPython.core.display.HTML object>"
      ]
     },
     "metadata": {},
     "output_type": "display_data"
    },
    {
     "data": {
      "text/html": [],
      "text/plain": [
       "<IPython.core.display.HTML object>"
      ]
     },
     "metadata": {},
     "output_type": "display_data"
    },
    {
     "data": {
      "text/html": [],
      "text/plain": [
       "<IPython.core.display.HTML object>"
      ]
     },
     "metadata": {},
     "output_type": "display_data"
    },
    {
     "data": {
      "text/html": [],
      "text/plain": [
       "<IPython.core.display.HTML object>"
      ]
     },
     "metadata": {},
     "output_type": "display_data"
    },
    {
     "data": {
      "text/html": [],
      "text/plain": [
       "<IPython.core.display.HTML object>"
      ]
     },
     "metadata": {},
     "output_type": "display_data"
    },
    {
     "data": {
      "text/html": [],
      "text/plain": [
       "<IPython.core.display.HTML object>"
      ]
     },
     "metadata": {},
     "output_type": "display_data"
    },
    {
     "data": {
      "text/html": [],
      "text/plain": [
       "<IPython.core.display.HTML object>"
      ]
     },
     "metadata": {},
     "output_type": "display_data"
    },
    {
     "data": {
      "text/html": [],
      "text/plain": [
       "<IPython.core.display.HTML object>"
      ]
     },
     "metadata": {},
     "output_type": "display_data"
    },
    {
     "data": {
      "text/html": [],
      "text/plain": [
       "<IPython.core.display.HTML object>"
      ]
     },
     "metadata": {},
     "output_type": "display_data"
    },
    {
     "data": {
      "text/html": [],
      "text/plain": [
       "<IPython.core.display.HTML object>"
      ]
     },
     "metadata": {},
     "output_type": "display_data"
    },
    {
     "data": {
      "text/html": [],
      "text/plain": [
       "<IPython.core.display.HTML object>"
      ]
     },
     "metadata": {},
     "output_type": "display_data"
    },
    {
     "data": {
      "text/html": [],
      "text/plain": [
       "<IPython.core.display.HTML object>"
      ]
     },
     "metadata": {},
     "output_type": "display_data"
    },
    {
     "data": {
      "text/html": [],
      "text/plain": [
       "<IPython.core.display.HTML object>"
      ]
     },
     "metadata": {},
     "output_type": "display_data"
    },
    {
     "data": {
      "text/html": [],
      "text/plain": [
       "<IPython.core.display.HTML object>"
      ]
     },
     "metadata": {},
     "output_type": "display_data"
    },
    {
     "data": {
      "text/html": [],
      "text/plain": [
       "<IPython.core.display.HTML object>"
      ]
     },
     "metadata": {},
     "output_type": "display_data"
    },
    {
     "data": {
      "text/html": [],
      "text/plain": [
       "<IPython.core.display.HTML object>"
      ]
     },
     "metadata": {},
     "output_type": "display_data"
    },
    {
     "data": {
      "text/html": [],
      "text/plain": [
       "<IPython.core.display.HTML object>"
      ]
     },
     "metadata": {},
     "output_type": "display_data"
    },
    {
     "data": {
      "text/html": [],
      "text/plain": [
       "<IPython.core.display.HTML object>"
      ]
     },
     "metadata": {},
     "output_type": "display_data"
    },
    {
     "data": {
      "text/html": [],
      "text/plain": [
       "<IPython.core.display.HTML object>"
      ]
     },
     "metadata": {},
     "output_type": "display_data"
    }
   ],
   "source": [
    "dogs= ['Labrador Retriever', 'German Shephard Dog','Poodle','Chihuahua', 'Golden Retriever','Yorkshire Terrier','Dachschund' , 'Beagle' , 'Boxer',\n",
    "       'Minature Schnauzer', 'Shih Tzu', 'Bulldog', 'German Spitz', 'English Cocker Spaniel', 'Cavalier King Charles Spaniel','French Bulldog',\n",
    "       'Pug', 'Rottweiler','English Setter','Maltese','English Springer Spaniel', 'German Shorthaired Pointer', 'Border Collie', 'Shetland Sheepdog',\n",
    "       'Dobermann','West Highland White Terrier','Bernese Mountain Dog','Great Dane', 'Brittany Spaniel'] \n",
    "path = Path('dogs')\n",
    "if not path.exists():\n",
    "    path.mkdir()\n",
    "    for o in dogs:\n",
    "        dest = (path/o)\n",
    "        dest.mkdir(exist_ok=True)\n",
    "        results = search_images_bing(key , o ,max_images=50)\n",
    "        download_images(dest, urls=results.attrgot('contentUrl'))"
   ]
  },
  {
   "cell_type": "code",
   "execution_count": 6,
   "metadata": {
    "colab": {
     "base_uri": "https://localhost:8080/",
     "height": 86
    },
    "id": "ufXCNQtBnBPk",
    "outputId": "f0cdd87b-22b3-4ec5-9883-3a3a19d96983"
   },
   "outputs": [
    {
     "data": {
      "text/html": [],
      "text/plain": [
       "<IPython.core.display.HTML object>"
      ]
     },
     "metadata": {},
     "output_type": "display_data"
    }
   ],
   "source": [
    "fns = get_image_files(path)\n",
    "failed = verify_images(fns)\n"
   ]
  },
  {
   "cell_type": "code",
   "execution_count": 7,
   "metadata": {
    "colab": {
     "base_uri": "https://localhost:8080/"
    },
    "id": "Ii2uZIhYo5EH",
    "outputId": "84efd76c-3494-45ca-dacc-33a334701c45"
   },
   "outputs": [
    {
     "data": {
      "text/plain": [
       "(#14) [None,None,None,None,None,None,None,None,None,None...]"
      ]
     },
     "execution_count": 7,
     "metadata": {},
     "output_type": "execute_result"
    }
   ],
   "source": [
    "failed.map(Path.unlink)"
   ]
  },
  {
   "cell_type": "code",
   "execution_count": 8,
   "metadata": {
    "id": "xkIeXWcMnh4T"
   },
   "outputs": [
    {
     "name": "stdout",
     "output_type": "stream",
     "text": [
      "Could not do one pass in your dataloader, there is something wrong in it\n"
     ]
    }
   ],
   "source": [
    "dogs_block = DataBlock(\n",
    "    blocks = (ImageBlock, CategoryBlock),\n",
    "    get_items=get_image_files,\n",
    "    splitter=RandomSplitter(valid_pct=0.2, seed=42),\n",
    "    get_y=parent_label,\n",
    "    item_tfms=RandomResizedCrop(224, min_scale=0.5),\n",
    "    batch_tfms=aug_transforms()\n",
    "    )\n",
    "dls=dogs_block.dataloaders(path)"
   ]
  },
  {
   "cell_type": "code",
   "execution_count": 9,
   "metadata": {
    "colab": {
     "base_uri": "https://localhost:8080/",
     "height": 371
    },
    "id": "_S-Q_UK1sxtj",
    "outputId": "40cff295-01cc-4661-a92b-4be211165b41"
   },
   "outputs": [
    {
     "ename": "RuntimeError",
     "evalue": "CUDA error: no kernel image is available for execution on the device",
     "output_type": "error",
     "traceback": [
      "\u001b[0;31m---------------------------------------------------------------------------\u001b[0m",
      "\u001b[0;31mRuntimeError\u001b[0m                              Traceback (most recent call last)",
      "\u001b[0;32m<ipython-input-9-362f0db09521>\u001b[0m in \u001b[0;36m<module>\u001b[0;34m\u001b[0m\n\u001b[0;32m----> 1\u001b[0;31m \u001b[0mdls\u001b[0m\u001b[0;34m.\u001b[0m\u001b[0mtrain\u001b[0m\u001b[0;34m.\u001b[0m\u001b[0mshow_batch\u001b[0m\u001b[0;34m(\u001b[0m\u001b[0mmax_n\u001b[0m\u001b[0;34m=\u001b[0m\u001b[0;36m8\u001b[0m\u001b[0;34m,\u001b[0m \u001b[0mnrows\u001b[0m\u001b[0;34m=\u001b[0m\u001b[0;36m2\u001b[0m\u001b[0;34m,\u001b[0m \u001b[0munique\u001b[0m\u001b[0;34m=\u001b[0m\u001b[0;32mTrue\u001b[0m\u001b[0;34m)\u001b[0m\u001b[0;34m\u001b[0m\u001b[0;34m\u001b[0m\u001b[0m\n\u001b[0m",
      "\u001b[0;32m~/anaconda3/lib/python3.8/site-packages/fastai/data/core.py\u001b[0m in \u001b[0;36mshow_batch\u001b[0;34m(self, b, max_n, ctxs, show, unique, **kwargs)\u001b[0m\n\u001b[1;32m     98\u001b[0m             \u001b[0mold_get_idxs\u001b[0m \u001b[0;34m=\u001b[0m \u001b[0mself\u001b[0m\u001b[0;34m.\u001b[0m\u001b[0mget_idxs\u001b[0m\u001b[0;34m\u001b[0m\u001b[0;34m\u001b[0m\u001b[0m\n\u001b[1;32m     99\u001b[0m             \u001b[0mself\u001b[0m\u001b[0;34m.\u001b[0m\u001b[0mget_idxs\u001b[0m \u001b[0;34m=\u001b[0m \u001b[0;32mlambda\u001b[0m\u001b[0;34m:\u001b[0m \u001b[0mInf\u001b[0m\u001b[0;34m.\u001b[0m\u001b[0mzeros\u001b[0m\u001b[0;34m\u001b[0m\u001b[0;34m\u001b[0m\u001b[0m\n\u001b[0;32m--> 100\u001b[0;31m         \u001b[0;32mif\u001b[0m \u001b[0mb\u001b[0m \u001b[0;32mis\u001b[0m \u001b[0;32mNone\u001b[0m\u001b[0;34m:\u001b[0m \u001b[0mb\u001b[0m \u001b[0;34m=\u001b[0m \u001b[0mself\u001b[0m\u001b[0;34m.\u001b[0m\u001b[0mone_batch\u001b[0m\u001b[0;34m(\u001b[0m\u001b[0;34m)\u001b[0m\u001b[0;34m\u001b[0m\u001b[0;34m\u001b[0m\u001b[0m\n\u001b[0m\u001b[1;32m    101\u001b[0m         \u001b[0;32mif\u001b[0m \u001b[0;32mnot\u001b[0m \u001b[0mshow\u001b[0m\u001b[0;34m:\u001b[0m \u001b[0;32mreturn\u001b[0m \u001b[0mself\u001b[0m\u001b[0;34m.\u001b[0m\u001b[0m_pre_show_batch\u001b[0m\u001b[0;34m(\u001b[0m\u001b[0mb\u001b[0m\u001b[0;34m,\u001b[0m \u001b[0mmax_n\u001b[0m\u001b[0;34m=\u001b[0m\u001b[0mmax_n\u001b[0m\u001b[0;34m)\u001b[0m\u001b[0;34m\u001b[0m\u001b[0;34m\u001b[0m\u001b[0m\n\u001b[1;32m    102\u001b[0m         \u001b[0mshow_batch\u001b[0m\u001b[0;34m(\u001b[0m\u001b[0;34m*\u001b[0m\u001b[0mself\u001b[0m\u001b[0;34m.\u001b[0m\u001b[0m_pre_show_batch\u001b[0m\u001b[0;34m(\u001b[0m\u001b[0mb\u001b[0m\u001b[0;34m,\u001b[0m \u001b[0mmax_n\u001b[0m\u001b[0;34m=\u001b[0m\u001b[0mmax_n\u001b[0m\u001b[0;34m)\u001b[0m\u001b[0;34m,\u001b[0m \u001b[0mctxs\u001b[0m\u001b[0;34m=\u001b[0m\u001b[0mctxs\u001b[0m\u001b[0;34m,\u001b[0m \u001b[0mmax_n\u001b[0m\u001b[0;34m=\u001b[0m\u001b[0mmax_n\u001b[0m\u001b[0;34m,\u001b[0m \u001b[0;34m**\u001b[0m\u001b[0mkwargs\u001b[0m\u001b[0;34m)\u001b[0m\u001b[0;34m\u001b[0m\u001b[0;34m\u001b[0m\u001b[0m\n",
      "\u001b[0;32m~/anaconda3/lib/python3.8/site-packages/fastai/data/load.py\u001b[0m in \u001b[0;36mone_batch\u001b[0;34m(self)\u001b[0m\n\u001b[1;32m    135\u001b[0m     \u001b[0;32mdef\u001b[0m \u001b[0mone_batch\u001b[0m\u001b[0;34m(\u001b[0m\u001b[0mself\u001b[0m\u001b[0;34m)\u001b[0m\u001b[0;34m:\u001b[0m\u001b[0;34m\u001b[0m\u001b[0;34m\u001b[0m\u001b[0m\n\u001b[1;32m    136\u001b[0m         \u001b[0;32mif\u001b[0m \u001b[0mself\u001b[0m\u001b[0;34m.\u001b[0m\u001b[0mn\u001b[0m \u001b[0;32mis\u001b[0m \u001b[0;32mnot\u001b[0m \u001b[0;32mNone\u001b[0m \u001b[0;32mand\u001b[0m \u001b[0mlen\u001b[0m\u001b[0;34m(\u001b[0m\u001b[0mself\u001b[0m\u001b[0;34m)\u001b[0m\u001b[0;34m==\u001b[0m\u001b[0;36m0\u001b[0m\u001b[0;34m:\u001b[0m \u001b[0;32mraise\u001b[0m \u001b[0mValueError\u001b[0m\u001b[0;34m(\u001b[0m\u001b[0;34mf'This DataLoader does not contain any batches'\u001b[0m\u001b[0;34m)\u001b[0m\u001b[0;34m\u001b[0m\u001b[0;34m\u001b[0m\u001b[0m\n\u001b[0;32m--> 137\u001b[0;31m         \u001b[0;32mwith\u001b[0m \u001b[0mself\u001b[0m\u001b[0;34m.\u001b[0m\u001b[0mfake_l\u001b[0m\u001b[0;34m.\u001b[0m\u001b[0mno_multiproc\u001b[0m\u001b[0;34m(\u001b[0m\u001b[0;34m)\u001b[0m\u001b[0;34m:\u001b[0m \u001b[0mres\u001b[0m \u001b[0;34m=\u001b[0m \u001b[0mfirst\u001b[0m\u001b[0;34m(\u001b[0m\u001b[0mself\u001b[0m\u001b[0;34m)\u001b[0m\u001b[0;34m\u001b[0m\u001b[0;34m\u001b[0m\u001b[0m\n\u001b[0m\u001b[1;32m    138\u001b[0m         \u001b[0;32mif\u001b[0m \u001b[0mhasattr\u001b[0m\u001b[0;34m(\u001b[0m\u001b[0mself\u001b[0m\u001b[0;34m,\u001b[0m \u001b[0;34m'it'\u001b[0m\u001b[0;34m)\u001b[0m\u001b[0;34m:\u001b[0m \u001b[0mdelattr\u001b[0m\u001b[0;34m(\u001b[0m\u001b[0mself\u001b[0m\u001b[0;34m,\u001b[0m \u001b[0;34m'it'\u001b[0m\u001b[0;34m)\u001b[0m\u001b[0;34m\u001b[0m\u001b[0;34m\u001b[0m\u001b[0m\n\u001b[1;32m    139\u001b[0m         \u001b[0;32mreturn\u001b[0m \u001b[0mres\u001b[0m\u001b[0;34m\u001b[0m\u001b[0;34m\u001b[0m\u001b[0m\n",
      "\u001b[0;32m~/anaconda3/lib/python3.8/site-packages/fastcore/basics.py\u001b[0m in \u001b[0;36mfirst\u001b[0;34m(x, f, negate, **kwargs)\u001b[0m\n\u001b[1;32m    525\u001b[0m     \u001b[0mx\u001b[0m \u001b[0;34m=\u001b[0m \u001b[0miter\u001b[0m\u001b[0;34m(\u001b[0m\u001b[0mx\u001b[0m\u001b[0;34m)\u001b[0m\u001b[0;34m\u001b[0m\u001b[0;34m\u001b[0m\u001b[0m\n\u001b[1;32m    526\u001b[0m     \u001b[0;32mif\u001b[0m \u001b[0mf\u001b[0m\u001b[0;34m:\u001b[0m \u001b[0mx\u001b[0m \u001b[0;34m=\u001b[0m \u001b[0mfilter_ex\u001b[0m\u001b[0;34m(\u001b[0m\u001b[0mx\u001b[0m\u001b[0;34m,\u001b[0m \u001b[0mf\u001b[0m\u001b[0;34m=\u001b[0m\u001b[0mf\u001b[0m\u001b[0;34m,\u001b[0m \u001b[0mnegate\u001b[0m\u001b[0;34m=\u001b[0m\u001b[0mnegate\u001b[0m\u001b[0;34m,\u001b[0m \u001b[0mgen\u001b[0m\u001b[0;34m=\u001b[0m\u001b[0;32mTrue\u001b[0m\u001b[0;34m,\u001b[0m \u001b[0;34m**\u001b[0m\u001b[0mkwargs\u001b[0m\u001b[0;34m)\u001b[0m\u001b[0;34m\u001b[0m\u001b[0;34m\u001b[0m\u001b[0m\n\u001b[0;32m--> 527\u001b[0;31m     \u001b[0;32mreturn\u001b[0m \u001b[0mnext\u001b[0m\u001b[0;34m(\u001b[0m\u001b[0mx\u001b[0m\u001b[0;34m,\u001b[0m \u001b[0;32mNone\u001b[0m\u001b[0;34m)\u001b[0m\u001b[0;34m\u001b[0m\u001b[0;34m\u001b[0m\u001b[0m\n\u001b[0m\u001b[1;32m    528\u001b[0m \u001b[0;34m\u001b[0m\u001b[0m\n\u001b[1;32m    529\u001b[0m \u001b[0;31m# Cell\u001b[0m\u001b[0;34m\u001b[0m\u001b[0;34m\u001b[0m\u001b[0;34m\u001b[0m\u001b[0m\n",
      "\u001b[0;32m~/anaconda3/lib/python3.8/site-packages/fastai/data/load.py\u001b[0m in \u001b[0;36m__iter__\u001b[0;34m(self)\u001b[0m\n\u001b[1;32m    101\u001b[0m         \u001b[0;32mfor\u001b[0m \u001b[0mb\u001b[0m \u001b[0;32min\u001b[0m \u001b[0m_loaders\u001b[0m\u001b[0;34m[\u001b[0m\u001b[0mself\u001b[0m\u001b[0;34m.\u001b[0m\u001b[0mfake_l\u001b[0m\u001b[0;34m.\u001b[0m\u001b[0mnum_workers\u001b[0m\u001b[0;34m==\u001b[0m\u001b[0;36m0\u001b[0m\u001b[0;34m]\u001b[0m\u001b[0;34m(\u001b[0m\u001b[0mself\u001b[0m\u001b[0;34m.\u001b[0m\u001b[0mfake_l\u001b[0m\u001b[0;34m)\u001b[0m\u001b[0;34m:\u001b[0m\u001b[0;34m\u001b[0m\u001b[0;34m\u001b[0m\u001b[0m\n\u001b[1;32m    102\u001b[0m             \u001b[0;32mif\u001b[0m \u001b[0mself\u001b[0m\u001b[0;34m.\u001b[0m\u001b[0mdevice\u001b[0m \u001b[0;32mis\u001b[0m \u001b[0;32mnot\u001b[0m \u001b[0;32mNone\u001b[0m\u001b[0;34m:\u001b[0m \u001b[0mb\u001b[0m \u001b[0;34m=\u001b[0m \u001b[0mto_device\u001b[0m\u001b[0;34m(\u001b[0m\u001b[0mb\u001b[0m\u001b[0;34m,\u001b[0m \u001b[0mself\u001b[0m\u001b[0;34m.\u001b[0m\u001b[0mdevice\u001b[0m\u001b[0;34m)\u001b[0m\u001b[0;34m\u001b[0m\u001b[0;34m\u001b[0m\u001b[0m\n\u001b[0;32m--> 103\u001b[0;31m             \u001b[0;32myield\u001b[0m \u001b[0mself\u001b[0m\u001b[0;34m.\u001b[0m\u001b[0mafter_batch\u001b[0m\u001b[0;34m(\u001b[0m\u001b[0mb\u001b[0m\u001b[0;34m)\u001b[0m\u001b[0;34m\u001b[0m\u001b[0;34m\u001b[0m\u001b[0m\n\u001b[0m\u001b[1;32m    104\u001b[0m         \u001b[0mself\u001b[0m\u001b[0;34m.\u001b[0m\u001b[0mafter_iter\u001b[0m\u001b[0;34m(\u001b[0m\u001b[0;34m)\u001b[0m\u001b[0;34m\u001b[0m\u001b[0;34m\u001b[0m\u001b[0m\n\u001b[1;32m    105\u001b[0m         \u001b[0;32mif\u001b[0m \u001b[0mhasattr\u001b[0m\u001b[0;34m(\u001b[0m\u001b[0mself\u001b[0m\u001b[0;34m,\u001b[0m \u001b[0;34m'it'\u001b[0m\u001b[0;34m)\u001b[0m\u001b[0;34m:\u001b[0m \u001b[0;32mdel\u001b[0m\u001b[0;34m(\u001b[0m\u001b[0mself\u001b[0m\u001b[0;34m.\u001b[0m\u001b[0mit\u001b[0m\u001b[0;34m)\u001b[0m\u001b[0;34m\u001b[0m\u001b[0;34m\u001b[0m\u001b[0m\n",
      "\u001b[0;32m~/anaconda3/lib/python3.8/site-packages/fastcore/transform.py\u001b[0m in \u001b[0;36m__call__\u001b[0;34m(self, o)\u001b[0m\n\u001b[1;32m    196\u001b[0m         \u001b[0mself\u001b[0m\u001b[0;34m.\u001b[0m\u001b[0mfs\u001b[0m\u001b[0;34m.\u001b[0m\u001b[0mappend\u001b[0m\u001b[0;34m(\u001b[0m\u001b[0mt\u001b[0m\u001b[0;34m)\u001b[0m\u001b[0;34m\u001b[0m\u001b[0;34m\u001b[0m\u001b[0m\n\u001b[1;32m    197\u001b[0m \u001b[0;34m\u001b[0m\u001b[0m\n\u001b[0;32m--> 198\u001b[0;31m     \u001b[0;32mdef\u001b[0m \u001b[0m__call__\u001b[0m\u001b[0;34m(\u001b[0m\u001b[0mself\u001b[0m\u001b[0;34m,\u001b[0m \u001b[0mo\u001b[0m\u001b[0;34m)\u001b[0m\u001b[0;34m:\u001b[0m \u001b[0;32mreturn\u001b[0m \u001b[0mcompose_tfms\u001b[0m\u001b[0;34m(\u001b[0m\u001b[0mo\u001b[0m\u001b[0;34m,\u001b[0m \u001b[0mtfms\u001b[0m\u001b[0;34m=\u001b[0m\u001b[0mself\u001b[0m\u001b[0;34m.\u001b[0m\u001b[0mfs\u001b[0m\u001b[0;34m,\u001b[0m \u001b[0msplit_idx\u001b[0m\u001b[0;34m=\u001b[0m\u001b[0mself\u001b[0m\u001b[0;34m.\u001b[0m\u001b[0msplit_idx\u001b[0m\u001b[0;34m)\u001b[0m\u001b[0;34m\u001b[0m\u001b[0;34m\u001b[0m\u001b[0m\n\u001b[0m\u001b[1;32m    199\u001b[0m     \u001b[0;32mdef\u001b[0m \u001b[0m__repr__\u001b[0m\u001b[0;34m(\u001b[0m\u001b[0mself\u001b[0m\u001b[0;34m)\u001b[0m\u001b[0;34m:\u001b[0m \u001b[0;32mreturn\u001b[0m \u001b[0;34mf\"Pipeline: {' -> '.join([f.name for f in self.fs if f.name != 'noop'])}\"\u001b[0m\u001b[0;34m\u001b[0m\u001b[0;34m\u001b[0m\u001b[0m\n\u001b[1;32m    200\u001b[0m     \u001b[0;32mdef\u001b[0m \u001b[0m__getitem__\u001b[0m\u001b[0;34m(\u001b[0m\u001b[0mself\u001b[0m\u001b[0;34m,\u001b[0m\u001b[0mi\u001b[0m\u001b[0;34m)\u001b[0m\u001b[0;34m:\u001b[0m \u001b[0;32mreturn\u001b[0m \u001b[0mself\u001b[0m\u001b[0;34m.\u001b[0m\u001b[0mfs\u001b[0m\u001b[0;34m[\u001b[0m\u001b[0mi\u001b[0m\u001b[0;34m]\u001b[0m\u001b[0;34m\u001b[0m\u001b[0;34m\u001b[0m\u001b[0m\n",
      "\u001b[0;32m~/anaconda3/lib/python3.8/site-packages/fastcore/transform.py\u001b[0m in \u001b[0;36mcompose_tfms\u001b[0;34m(x, tfms, is_enc, reverse, **kwargs)\u001b[0m\n\u001b[1;32m    148\u001b[0m     \u001b[0;32mfor\u001b[0m \u001b[0mf\u001b[0m \u001b[0;32min\u001b[0m \u001b[0mtfms\u001b[0m\u001b[0;34m:\u001b[0m\u001b[0;34m\u001b[0m\u001b[0;34m\u001b[0m\u001b[0m\n\u001b[1;32m    149\u001b[0m         \u001b[0;32mif\u001b[0m \u001b[0;32mnot\u001b[0m \u001b[0mis_enc\u001b[0m\u001b[0;34m:\u001b[0m \u001b[0mf\u001b[0m \u001b[0;34m=\u001b[0m \u001b[0mf\u001b[0m\u001b[0;34m.\u001b[0m\u001b[0mdecode\u001b[0m\u001b[0;34m\u001b[0m\u001b[0;34m\u001b[0m\u001b[0m\n\u001b[0;32m--> 150\u001b[0;31m         \u001b[0mx\u001b[0m \u001b[0;34m=\u001b[0m \u001b[0mf\u001b[0m\u001b[0;34m(\u001b[0m\u001b[0mx\u001b[0m\u001b[0;34m,\u001b[0m \u001b[0;34m**\u001b[0m\u001b[0mkwargs\u001b[0m\u001b[0;34m)\u001b[0m\u001b[0;34m\u001b[0m\u001b[0;34m\u001b[0m\u001b[0m\n\u001b[0m\u001b[1;32m    151\u001b[0m     \u001b[0;32mreturn\u001b[0m \u001b[0mx\u001b[0m\u001b[0;34m\u001b[0m\u001b[0;34m\u001b[0m\u001b[0m\n\u001b[1;32m    152\u001b[0m \u001b[0;34m\u001b[0m\u001b[0m\n",
      "\u001b[0;32m~/anaconda3/lib/python3.8/site-packages/fastcore/transform.py\u001b[0m in \u001b[0;36m__call__\u001b[0;34m(self, x, **kwargs)\u001b[0m\n\u001b[1;32m     71\u001b[0m     \u001b[0;34m@\u001b[0m\u001b[0mproperty\u001b[0m\u001b[0;34m\u001b[0m\u001b[0;34m\u001b[0m\u001b[0m\n\u001b[1;32m     72\u001b[0m     \u001b[0;32mdef\u001b[0m \u001b[0mname\u001b[0m\u001b[0;34m(\u001b[0m\u001b[0mself\u001b[0m\u001b[0;34m)\u001b[0m\u001b[0;34m:\u001b[0m \u001b[0;32mreturn\u001b[0m \u001b[0mgetattr\u001b[0m\u001b[0;34m(\u001b[0m\u001b[0mself\u001b[0m\u001b[0;34m,\u001b[0m \u001b[0;34m'_name'\u001b[0m\u001b[0;34m,\u001b[0m \u001b[0m_get_name\u001b[0m\u001b[0;34m(\u001b[0m\u001b[0mself\u001b[0m\u001b[0;34m)\u001b[0m\u001b[0;34m)\u001b[0m\u001b[0;34m\u001b[0m\u001b[0;34m\u001b[0m\u001b[0m\n\u001b[0;32m---> 73\u001b[0;31m     \u001b[0;32mdef\u001b[0m \u001b[0m__call__\u001b[0m\u001b[0;34m(\u001b[0m\u001b[0mself\u001b[0m\u001b[0;34m,\u001b[0m \u001b[0mx\u001b[0m\u001b[0;34m,\u001b[0m \u001b[0;34m**\u001b[0m\u001b[0mkwargs\u001b[0m\u001b[0;34m)\u001b[0m\u001b[0;34m:\u001b[0m \u001b[0;32mreturn\u001b[0m \u001b[0mself\u001b[0m\u001b[0;34m.\u001b[0m\u001b[0m_call\u001b[0m\u001b[0;34m(\u001b[0m\u001b[0;34m'encodes'\u001b[0m\u001b[0;34m,\u001b[0m \u001b[0mx\u001b[0m\u001b[0;34m,\u001b[0m \u001b[0;34m**\u001b[0m\u001b[0mkwargs\u001b[0m\u001b[0;34m)\u001b[0m\u001b[0;34m\u001b[0m\u001b[0;34m\u001b[0m\u001b[0m\n\u001b[0m\u001b[1;32m     74\u001b[0m     \u001b[0;32mdef\u001b[0m \u001b[0mdecode\u001b[0m  \u001b[0;34m(\u001b[0m\u001b[0mself\u001b[0m\u001b[0;34m,\u001b[0m \u001b[0mx\u001b[0m\u001b[0;34m,\u001b[0m \u001b[0;34m**\u001b[0m\u001b[0mkwargs\u001b[0m\u001b[0;34m)\u001b[0m\u001b[0;34m:\u001b[0m \u001b[0;32mreturn\u001b[0m \u001b[0mself\u001b[0m\u001b[0;34m.\u001b[0m\u001b[0m_call\u001b[0m\u001b[0;34m(\u001b[0m\u001b[0;34m'decodes'\u001b[0m\u001b[0;34m,\u001b[0m \u001b[0mx\u001b[0m\u001b[0;34m,\u001b[0m \u001b[0;34m**\u001b[0m\u001b[0mkwargs\u001b[0m\u001b[0;34m)\u001b[0m\u001b[0;34m\u001b[0m\u001b[0;34m\u001b[0m\u001b[0m\n\u001b[1;32m     75\u001b[0m     \u001b[0;32mdef\u001b[0m \u001b[0m__repr__\u001b[0m\u001b[0;34m(\u001b[0m\u001b[0mself\u001b[0m\u001b[0;34m)\u001b[0m\u001b[0;34m:\u001b[0m \u001b[0;32mreturn\u001b[0m \u001b[0;34mf'{self.name}:\\nencodes: {self.encodes}decodes: {self.decodes}'\u001b[0m\u001b[0;34m\u001b[0m\u001b[0;34m\u001b[0m\u001b[0m\n",
      "\u001b[0;32m~/anaconda3/lib/python3.8/site-packages/fastcore/transform.py\u001b[0m in \u001b[0;36m_call\u001b[0;34m(self, fn, x, split_idx, **kwargs)\u001b[0m\n\u001b[1;32m     81\u001b[0m     \u001b[0;32mdef\u001b[0m \u001b[0m_call\u001b[0m\u001b[0;34m(\u001b[0m\u001b[0mself\u001b[0m\u001b[0;34m,\u001b[0m \u001b[0mfn\u001b[0m\u001b[0;34m,\u001b[0m \u001b[0mx\u001b[0m\u001b[0;34m,\u001b[0m \u001b[0msplit_idx\u001b[0m\u001b[0;34m=\u001b[0m\u001b[0;32mNone\u001b[0m\u001b[0;34m,\u001b[0m \u001b[0;34m**\u001b[0m\u001b[0mkwargs\u001b[0m\u001b[0;34m)\u001b[0m\u001b[0;34m:\u001b[0m\u001b[0;34m\u001b[0m\u001b[0;34m\u001b[0m\u001b[0m\n\u001b[1;32m     82\u001b[0m         \u001b[0;32mif\u001b[0m \u001b[0msplit_idx\u001b[0m\u001b[0;34m!=\u001b[0m\u001b[0mself\u001b[0m\u001b[0;34m.\u001b[0m\u001b[0msplit_idx\u001b[0m \u001b[0;32mand\u001b[0m \u001b[0mself\u001b[0m\u001b[0;34m.\u001b[0m\u001b[0msplit_idx\u001b[0m \u001b[0;32mis\u001b[0m \u001b[0;32mnot\u001b[0m \u001b[0;32mNone\u001b[0m\u001b[0;34m:\u001b[0m \u001b[0;32mreturn\u001b[0m \u001b[0mx\u001b[0m\u001b[0;34m\u001b[0m\u001b[0;34m\u001b[0m\u001b[0m\n\u001b[0;32m---> 83\u001b[0;31m         \u001b[0;32mreturn\u001b[0m \u001b[0mself\u001b[0m\u001b[0;34m.\u001b[0m\u001b[0m_do_call\u001b[0m\u001b[0;34m(\u001b[0m\u001b[0mgetattr\u001b[0m\u001b[0;34m(\u001b[0m\u001b[0mself\u001b[0m\u001b[0;34m,\u001b[0m \u001b[0mfn\u001b[0m\u001b[0;34m)\u001b[0m\u001b[0;34m,\u001b[0m \u001b[0mx\u001b[0m\u001b[0;34m,\u001b[0m \u001b[0;34m**\u001b[0m\u001b[0mkwargs\u001b[0m\u001b[0;34m)\u001b[0m\u001b[0;34m\u001b[0m\u001b[0;34m\u001b[0m\u001b[0m\n\u001b[0m\u001b[1;32m     84\u001b[0m \u001b[0;34m\u001b[0m\u001b[0m\n\u001b[1;32m     85\u001b[0m     \u001b[0;32mdef\u001b[0m \u001b[0m_do_call\u001b[0m\u001b[0;34m(\u001b[0m\u001b[0mself\u001b[0m\u001b[0;34m,\u001b[0m \u001b[0mf\u001b[0m\u001b[0;34m,\u001b[0m \u001b[0mx\u001b[0m\u001b[0;34m,\u001b[0m \u001b[0;34m**\u001b[0m\u001b[0mkwargs\u001b[0m\u001b[0;34m)\u001b[0m\u001b[0;34m:\u001b[0m\u001b[0;34m\u001b[0m\u001b[0;34m\u001b[0m\u001b[0m\n",
      "\u001b[0;32m~/anaconda3/lib/python3.8/site-packages/fastcore/transform.py\u001b[0m in \u001b[0;36m_do_call\u001b[0;34m(self, f, x, **kwargs)\u001b[0m\n\u001b[1;32m     88\u001b[0m             \u001b[0mret\u001b[0m \u001b[0;34m=\u001b[0m \u001b[0mf\u001b[0m\u001b[0;34m.\u001b[0m\u001b[0mreturns_none\u001b[0m\u001b[0;34m(\u001b[0m\u001b[0mx\u001b[0m\u001b[0;34m)\u001b[0m \u001b[0;32mif\u001b[0m \u001b[0mhasattr\u001b[0m\u001b[0;34m(\u001b[0m\u001b[0mf\u001b[0m\u001b[0;34m,\u001b[0m\u001b[0;34m'returns_none'\u001b[0m\u001b[0;34m)\u001b[0m \u001b[0;32melse\u001b[0m \u001b[0;32mNone\u001b[0m\u001b[0;34m\u001b[0m\u001b[0;34m\u001b[0m\u001b[0m\n\u001b[1;32m     89\u001b[0m             \u001b[0;32mreturn\u001b[0m \u001b[0mretain_type\u001b[0m\u001b[0;34m(\u001b[0m\u001b[0mf\u001b[0m\u001b[0;34m(\u001b[0m\u001b[0mx\u001b[0m\u001b[0;34m,\u001b[0m \u001b[0;34m**\u001b[0m\u001b[0mkwargs\u001b[0m\u001b[0;34m)\u001b[0m\u001b[0;34m,\u001b[0m \u001b[0mx\u001b[0m\u001b[0;34m,\u001b[0m \u001b[0mret\u001b[0m\u001b[0;34m)\u001b[0m\u001b[0;34m\u001b[0m\u001b[0;34m\u001b[0m\u001b[0m\n\u001b[0;32m---> 90\u001b[0;31m         \u001b[0mres\u001b[0m \u001b[0;34m=\u001b[0m \u001b[0mtuple\u001b[0m\u001b[0;34m(\u001b[0m\u001b[0mself\u001b[0m\u001b[0;34m.\u001b[0m\u001b[0m_do_call\u001b[0m\u001b[0;34m(\u001b[0m\u001b[0mf\u001b[0m\u001b[0;34m,\u001b[0m \u001b[0mx_\u001b[0m\u001b[0;34m,\u001b[0m \u001b[0;34m**\u001b[0m\u001b[0mkwargs\u001b[0m\u001b[0;34m)\u001b[0m \u001b[0;32mfor\u001b[0m \u001b[0mx_\u001b[0m \u001b[0;32min\u001b[0m \u001b[0mx\u001b[0m\u001b[0;34m)\u001b[0m\u001b[0;34m\u001b[0m\u001b[0;34m\u001b[0m\u001b[0m\n\u001b[0m\u001b[1;32m     91\u001b[0m         \u001b[0;32mreturn\u001b[0m \u001b[0mretain_type\u001b[0m\u001b[0;34m(\u001b[0m\u001b[0mres\u001b[0m\u001b[0;34m,\u001b[0m \u001b[0mx\u001b[0m\u001b[0;34m)\u001b[0m\u001b[0;34m\u001b[0m\u001b[0;34m\u001b[0m\u001b[0m\n\u001b[1;32m     92\u001b[0m \u001b[0;34m\u001b[0m\u001b[0m\n",
      "\u001b[0;32m~/anaconda3/lib/python3.8/site-packages/fastcore/transform.py\u001b[0m in \u001b[0;36m<genexpr>\u001b[0;34m(.0)\u001b[0m\n\u001b[1;32m     88\u001b[0m             \u001b[0mret\u001b[0m \u001b[0;34m=\u001b[0m \u001b[0mf\u001b[0m\u001b[0;34m.\u001b[0m\u001b[0mreturns_none\u001b[0m\u001b[0;34m(\u001b[0m\u001b[0mx\u001b[0m\u001b[0;34m)\u001b[0m \u001b[0;32mif\u001b[0m \u001b[0mhasattr\u001b[0m\u001b[0;34m(\u001b[0m\u001b[0mf\u001b[0m\u001b[0;34m,\u001b[0m\u001b[0;34m'returns_none'\u001b[0m\u001b[0;34m)\u001b[0m \u001b[0;32melse\u001b[0m \u001b[0;32mNone\u001b[0m\u001b[0;34m\u001b[0m\u001b[0;34m\u001b[0m\u001b[0m\n\u001b[1;32m     89\u001b[0m             \u001b[0;32mreturn\u001b[0m \u001b[0mretain_type\u001b[0m\u001b[0;34m(\u001b[0m\u001b[0mf\u001b[0m\u001b[0;34m(\u001b[0m\u001b[0mx\u001b[0m\u001b[0;34m,\u001b[0m \u001b[0;34m**\u001b[0m\u001b[0mkwargs\u001b[0m\u001b[0;34m)\u001b[0m\u001b[0;34m,\u001b[0m \u001b[0mx\u001b[0m\u001b[0;34m,\u001b[0m \u001b[0mret\u001b[0m\u001b[0;34m)\u001b[0m\u001b[0;34m\u001b[0m\u001b[0;34m\u001b[0m\u001b[0m\n\u001b[0;32m---> 90\u001b[0;31m         \u001b[0mres\u001b[0m \u001b[0;34m=\u001b[0m \u001b[0mtuple\u001b[0m\u001b[0;34m(\u001b[0m\u001b[0mself\u001b[0m\u001b[0;34m.\u001b[0m\u001b[0m_do_call\u001b[0m\u001b[0;34m(\u001b[0m\u001b[0mf\u001b[0m\u001b[0;34m,\u001b[0m \u001b[0mx_\u001b[0m\u001b[0;34m,\u001b[0m \u001b[0;34m**\u001b[0m\u001b[0mkwargs\u001b[0m\u001b[0;34m)\u001b[0m \u001b[0;32mfor\u001b[0m \u001b[0mx_\u001b[0m \u001b[0;32min\u001b[0m \u001b[0mx\u001b[0m\u001b[0;34m)\u001b[0m\u001b[0;34m\u001b[0m\u001b[0;34m\u001b[0m\u001b[0m\n\u001b[0m\u001b[1;32m     91\u001b[0m         \u001b[0;32mreturn\u001b[0m \u001b[0mretain_type\u001b[0m\u001b[0;34m(\u001b[0m\u001b[0mres\u001b[0m\u001b[0;34m,\u001b[0m \u001b[0mx\u001b[0m\u001b[0;34m)\u001b[0m\u001b[0;34m\u001b[0m\u001b[0;34m\u001b[0m\u001b[0m\n\u001b[1;32m     92\u001b[0m \u001b[0;34m\u001b[0m\u001b[0m\n",
      "\u001b[0;32m~/anaconda3/lib/python3.8/site-packages/fastcore/transform.py\u001b[0m in \u001b[0;36m_do_call\u001b[0;34m(self, f, x, **kwargs)\u001b[0m\n\u001b[1;32m     87\u001b[0m             \u001b[0;32mif\u001b[0m \u001b[0mf\u001b[0m \u001b[0;32mis\u001b[0m \u001b[0;32mNone\u001b[0m\u001b[0;34m:\u001b[0m \u001b[0;32mreturn\u001b[0m \u001b[0mx\u001b[0m\u001b[0;34m\u001b[0m\u001b[0;34m\u001b[0m\u001b[0m\n\u001b[1;32m     88\u001b[0m             \u001b[0mret\u001b[0m \u001b[0;34m=\u001b[0m \u001b[0mf\u001b[0m\u001b[0;34m.\u001b[0m\u001b[0mreturns_none\u001b[0m\u001b[0;34m(\u001b[0m\u001b[0mx\u001b[0m\u001b[0;34m)\u001b[0m \u001b[0;32mif\u001b[0m \u001b[0mhasattr\u001b[0m\u001b[0;34m(\u001b[0m\u001b[0mf\u001b[0m\u001b[0;34m,\u001b[0m\u001b[0;34m'returns_none'\u001b[0m\u001b[0;34m)\u001b[0m \u001b[0;32melse\u001b[0m \u001b[0;32mNone\u001b[0m\u001b[0;34m\u001b[0m\u001b[0;34m\u001b[0m\u001b[0m\n\u001b[0;32m---> 89\u001b[0;31m             \u001b[0;32mreturn\u001b[0m \u001b[0mretain_type\u001b[0m\u001b[0;34m(\u001b[0m\u001b[0mf\u001b[0m\u001b[0;34m(\u001b[0m\u001b[0mx\u001b[0m\u001b[0;34m,\u001b[0m \u001b[0;34m**\u001b[0m\u001b[0mkwargs\u001b[0m\u001b[0;34m)\u001b[0m\u001b[0;34m,\u001b[0m \u001b[0mx\u001b[0m\u001b[0;34m,\u001b[0m \u001b[0mret\u001b[0m\u001b[0;34m)\u001b[0m\u001b[0;34m\u001b[0m\u001b[0;34m\u001b[0m\u001b[0m\n\u001b[0m\u001b[1;32m     90\u001b[0m         \u001b[0mres\u001b[0m \u001b[0;34m=\u001b[0m \u001b[0mtuple\u001b[0m\u001b[0;34m(\u001b[0m\u001b[0mself\u001b[0m\u001b[0;34m.\u001b[0m\u001b[0m_do_call\u001b[0m\u001b[0;34m(\u001b[0m\u001b[0mf\u001b[0m\u001b[0;34m,\u001b[0m \u001b[0mx_\u001b[0m\u001b[0;34m,\u001b[0m \u001b[0;34m**\u001b[0m\u001b[0mkwargs\u001b[0m\u001b[0;34m)\u001b[0m \u001b[0;32mfor\u001b[0m \u001b[0mx_\u001b[0m \u001b[0;32min\u001b[0m \u001b[0mx\u001b[0m\u001b[0;34m)\u001b[0m\u001b[0;34m\u001b[0m\u001b[0;34m\u001b[0m\u001b[0m\n\u001b[1;32m     91\u001b[0m         \u001b[0;32mreturn\u001b[0m \u001b[0mretain_type\u001b[0m\u001b[0;34m(\u001b[0m\u001b[0mres\u001b[0m\u001b[0;34m,\u001b[0m \u001b[0mx\u001b[0m\u001b[0;34m)\u001b[0m\u001b[0;34m\u001b[0m\u001b[0;34m\u001b[0m\u001b[0m\n",
      "\u001b[0;32m~/anaconda3/lib/python3.8/site-packages/fastcore/dispatch.py\u001b[0m in \u001b[0;36m__call__\u001b[0;34m(self, *args, **kwargs)\u001b[0m\n\u001b[1;32m    115\u001b[0m         \u001b[0;32melif\u001b[0m \u001b[0mself\u001b[0m\u001b[0;34m.\u001b[0m\u001b[0minst\u001b[0m \u001b[0;32mis\u001b[0m \u001b[0;32mnot\u001b[0m \u001b[0;32mNone\u001b[0m\u001b[0;34m:\u001b[0m \u001b[0mf\u001b[0m \u001b[0;34m=\u001b[0m \u001b[0mMethodType\u001b[0m\u001b[0;34m(\u001b[0m\u001b[0mf\u001b[0m\u001b[0;34m,\u001b[0m \u001b[0mself\u001b[0m\u001b[0;34m.\u001b[0m\u001b[0minst\u001b[0m\u001b[0;34m)\u001b[0m\u001b[0;34m\u001b[0m\u001b[0;34m\u001b[0m\u001b[0m\n\u001b[1;32m    116\u001b[0m         \u001b[0;32melif\u001b[0m \u001b[0mself\u001b[0m\u001b[0;34m.\u001b[0m\u001b[0mowner\u001b[0m \u001b[0;32mis\u001b[0m \u001b[0;32mnot\u001b[0m \u001b[0;32mNone\u001b[0m\u001b[0;34m:\u001b[0m \u001b[0mf\u001b[0m \u001b[0;34m=\u001b[0m \u001b[0mMethodType\u001b[0m\u001b[0;34m(\u001b[0m\u001b[0mf\u001b[0m\u001b[0;34m,\u001b[0m \u001b[0mself\u001b[0m\u001b[0;34m.\u001b[0m\u001b[0mowner\u001b[0m\u001b[0;34m)\u001b[0m\u001b[0;34m\u001b[0m\u001b[0;34m\u001b[0m\u001b[0m\n\u001b[0;32m--> 117\u001b[0;31m         \u001b[0;32mreturn\u001b[0m \u001b[0mf\u001b[0m\u001b[0;34m(\u001b[0m\u001b[0;34m*\u001b[0m\u001b[0margs\u001b[0m\u001b[0;34m,\u001b[0m \u001b[0;34m**\u001b[0m\u001b[0mkwargs\u001b[0m\u001b[0;34m)\u001b[0m\u001b[0;34m\u001b[0m\u001b[0;34m\u001b[0m\u001b[0m\n\u001b[0m\u001b[1;32m    118\u001b[0m \u001b[0;34m\u001b[0m\u001b[0m\n\u001b[1;32m    119\u001b[0m     \u001b[0;32mdef\u001b[0m \u001b[0m__get__\u001b[0m\u001b[0;34m(\u001b[0m\u001b[0mself\u001b[0m\u001b[0;34m,\u001b[0m \u001b[0minst\u001b[0m\u001b[0;34m,\u001b[0m \u001b[0mowner\u001b[0m\u001b[0;34m)\u001b[0m\u001b[0;34m:\u001b[0m\u001b[0;34m\u001b[0m\u001b[0;34m\u001b[0m\u001b[0m\n",
      "\u001b[0;32m~/anaconda3/lib/python3.8/site-packages/fastai/data/transforms.py\u001b[0m in \u001b[0;36mencodes\u001b[0;34m(self, o)\u001b[0m\n\u001b[1;32m    330\u001b[0m     \u001b[0morder\u001b[0m \u001b[0;34m=\u001b[0m \u001b[0;36m10\u001b[0m \u001b[0;31m#Need to run after PIL transforms on the GPU\u001b[0m\u001b[0;34m\u001b[0m\u001b[0;34m\u001b[0m\u001b[0m\n\u001b[1;32m    331\u001b[0m     \u001b[0;32mdef\u001b[0m \u001b[0m__init__\u001b[0m\u001b[0;34m(\u001b[0m\u001b[0mself\u001b[0m\u001b[0;34m,\u001b[0m \u001b[0mdiv\u001b[0m\u001b[0;34m=\u001b[0m\u001b[0;36m255.\u001b[0m\u001b[0;34m,\u001b[0m \u001b[0mdiv_mask\u001b[0m\u001b[0;34m=\u001b[0m\u001b[0;36m1\u001b[0m\u001b[0;34m)\u001b[0m\u001b[0;34m:\u001b[0m \u001b[0mstore_attr\u001b[0m\u001b[0;34m(\u001b[0m\u001b[0;34m)\u001b[0m\u001b[0;34m\u001b[0m\u001b[0;34m\u001b[0m\u001b[0m\n\u001b[0;32m--> 332\u001b[0;31m     \u001b[0;32mdef\u001b[0m \u001b[0mencodes\u001b[0m\u001b[0;34m(\u001b[0m\u001b[0mself\u001b[0m\u001b[0;34m,\u001b[0m \u001b[0mo\u001b[0m\u001b[0;34m:\u001b[0m\u001b[0mTensorImage\u001b[0m\u001b[0;34m)\u001b[0m\u001b[0;34m:\u001b[0m \u001b[0;32mreturn\u001b[0m \u001b[0mo\u001b[0m\u001b[0;34m.\u001b[0m\u001b[0mfloat\u001b[0m\u001b[0;34m(\u001b[0m\u001b[0;34m)\u001b[0m\u001b[0;34m.\u001b[0m\u001b[0mdiv_\u001b[0m\u001b[0;34m(\u001b[0m\u001b[0mself\u001b[0m\u001b[0;34m.\u001b[0m\u001b[0mdiv\u001b[0m\u001b[0;34m)\u001b[0m\u001b[0;34m\u001b[0m\u001b[0;34m\u001b[0m\u001b[0m\n\u001b[0m\u001b[1;32m    333\u001b[0m     \u001b[0;32mdef\u001b[0m \u001b[0mencodes\u001b[0m\u001b[0;34m(\u001b[0m\u001b[0mself\u001b[0m\u001b[0;34m,\u001b[0m \u001b[0mo\u001b[0m\u001b[0;34m:\u001b[0m\u001b[0mTensorMask\u001b[0m \u001b[0;34m)\u001b[0m\u001b[0;34m:\u001b[0m \u001b[0;32mreturn\u001b[0m \u001b[0mo\u001b[0m\u001b[0;34m.\u001b[0m\u001b[0mlong\u001b[0m\u001b[0;34m(\u001b[0m\u001b[0;34m)\u001b[0m \u001b[0;34m//\u001b[0m \u001b[0mself\u001b[0m\u001b[0;34m.\u001b[0m\u001b[0mdiv_mask\u001b[0m\u001b[0;34m\u001b[0m\u001b[0;34m\u001b[0m\u001b[0m\n\u001b[1;32m    334\u001b[0m     \u001b[0;32mdef\u001b[0m \u001b[0mdecodes\u001b[0m\u001b[0;34m(\u001b[0m\u001b[0mself\u001b[0m\u001b[0;34m,\u001b[0m \u001b[0mo\u001b[0m\u001b[0;34m:\u001b[0m\u001b[0mTensorImage\u001b[0m\u001b[0;34m)\u001b[0m\u001b[0;34m:\u001b[0m \u001b[0;32mreturn\u001b[0m \u001b[0;34m(\u001b[0m\u001b[0;34m(\u001b[0m\u001b[0mo\u001b[0m\u001b[0;34m.\u001b[0m\u001b[0mclamp\u001b[0m\u001b[0;34m(\u001b[0m\u001b[0;36m0.\u001b[0m\u001b[0;34m,\u001b[0m \u001b[0;36m1.\u001b[0m\u001b[0;34m)\u001b[0m \u001b[0;34m*\u001b[0m \u001b[0mself\u001b[0m\u001b[0;34m.\u001b[0m\u001b[0mdiv\u001b[0m\u001b[0;34m)\u001b[0m\u001b[0;34m.\u001b[0m\u001b[0mlong\u001b[0m\u001b[0;34m(\u001b[0m\u001b[0;34m)\u001b[0m\u001b[0;34m)\u001b[0m \u001b[0;32mif\u001b[0m \u001b[0mself\u001b[0m\u001b[0;34m.\u001b[0m\u001b[0mdiv\u001b[0m \u001b[0;32melse\u001b[0m \u001b[0mo\u001b[0m\u001b[0;34m\u001b[0m\u001b[0;34m\u001b[0m\u001b[0m\n",
      "\u001b[0;32m~/anaconda3/lib/python3.8/site-packages/fastai/torch_core.py\u001b[0m in \u001b[0;36m__torch_function__\u001b[0;34m(self, func, types, args, kwargs)\u001b[0m\n\u001b[1;32m    317\u001b[0m \u001b[0;31m#         if func.__name__[0]!='_': print(func, types, args, kwargs)\u001b[0m\u001b[0;34m\u001b[0m\u001b[0;34m\u001b[0m\u001b[0;34m\u001b[0m\u001b[0m\n\u001b[1;32m    318\u001b[0m \u001b[0;31m#         with torch._C.DisableTorchFunction(): ret = _convert(func(*args, **(kwargs or {})), self.__class__)\u001b[0m\u001b[0;34m\u001b[0m\u001b[0;34m\u001b[0m\u001b[0;34m\u001b[0m\u001b[0m\n\u001b[0;32m--> 319\u001b[0;31m         \u001b[0mret\u001b[0m \u001b[0;34m=\u001b[0m \u001b[0msuper\u001b[0m\u001b[0;34m(\u001b[0m\u001b[0;34m)\u001b[0m\u001b[0;34m.\u001b[0m\u001b[0m__torch_function__\u001b[0m\u001b[0;34m(\u001b[0m\u001b[0mfunc\u001b[0m\u001b[0;34m,\u001b[0m \u001b[0mtypes\u001b[0m\u001b[0;34m,\u001b[0m \u001b[0margs\u001b[0m\u001b[0;34m=\u001b[0m\u001b[0margs\u001b[0m\u001b[0;34m,\u001b[0m \u001b[0mkwargs\u001b[0m\u001b[0;34m=\u001b[0m\u001b[0mkwargs\u001b[0m\u001b[0;34m)\u001b[0m\u001b[0;34m\u001b[0m\u001b[0;34m\u001b[0m\u001b[0m\n\u001b[0m\u001b[1;32m    320\u001b[0m         \u001b[0;32mif\u001b[0m \u001b[0misinstance\u001b[0m\u001b[0;34m(\u001b[0m\u001b[0mret\u001b[0m\u001b[0;34m,\u001b[0m \u001b[0mTensorBase\u001b[0m\u001b[0;34m)\u001b[0m\u001b[0;34m:\u001b[0m \u001b[0mret\u001b[0m\u001b[0;34m.\u001b[0m\u001b[0mset_meta\u001b[0m\u001b[0;34m(\u001b[0m\u001b[0mself\u001b[0m\u001b[0;34m,\u001b[0m \u001b[0mas_copy\u001b[0m\u001b[0;34m=\u001b[0m\u001b[0;32mTrue\u001b[0m\u001b[0;34m)\u001b[0m\u001b[0;34m\u001b[0m\u001b[0;34m\u001b[0m\u001b[0m\n\u001b[1;32m    321\u001b[0m         \u001b[0;32mreturn\u001b[0m \u001b[0mret\u001b[0m\u001b[0;34m\u001b[0m\u001b[0;34m\u001b[0m\u001b[0m\n",
      "\u001b[0;32m~/anaconda3/lib/python3.8/site-packages/torch/tensor.py\u001b[0m in \u001b[0;36m__torch_function__\u001b[0;34m(cls, func, types, args, kwargs)\u001b[0m\n\u001b[1;32m    993\u001b[0m \u001b[0;34m\u001b[0m\u001b[0m\n\u001b[1;32m    994\u001b[0m         \u001b[0;32mwith\u001b[0m \u001b[0m_C\u001b[0m\u001b[0;34m.\u001b[0m\u001b[0mDisableTorchFunction\u001b[0m\u001b[0;34m(\u001b[0m\u001b[0;34m)\u001b[0m\u001b[0;34m:\u001b[0m\u001b[0;34m\u001b[0m\u001b[0;34m\u001b[0m\u001b[0m\n\u001b[0;32m--> 995\u001b[0;31m             \u001b[0mret\u001b[0m \u001b[0;34m=\u001b[0m \u001b[0mfunc\u001b[0m\u001b[0;34m(\u001b[0m\u001b[0;34m*\u001b[0m\u001b[0margs\u001b[0m\u001b[0;34m,\u001b[0m \u001b[0;34m**\u001b[0m\u001b[0mkwargs\u001b[0m\u001b[0;34m)\u001b[0m\u001b[0;34m\u001b[0m\u001b[0;34m\u001b[0m\u001b[0m\n\u001b[0m\u001b[1;32m    996\u001b[0m             \u001b[0;32mreturn\u001b[0m \u001b[0m_convert\u001b[0m\u001b[0;34m(\u001b[0m\u001b[0mret\u001b[0m\u001b[0;34m,\u001b[0m \u001b[0mcls\u001b[0m\u001b[0;34m)\u001b[0m\u001b[0;34m\u001b[0m\u001b[0;34m\u001b[0m\u001b[0m\n\u001b[1;32m    997\u001b[0m \u001b[0;34m\u001b[0m\u001b[0m\n",
      "\u001b[0;31mRuntimeError\u001b[0m: CUDA error: no kernel image is available for execution on the device"
     ]
    }
   ],
   "source": [
    "dls.train.show_batch(max_n=8, nrows=2, unique=True)"
   ]
  },
  {
   "cell_type": "code",
   "execution_count": null,
   "metadata": {
    "colab": {
     "base_uri": "https://localhost:8080/",
     "height": 968
    },
    "id": "HyGb2T3Poant",
    "outputId": "8f5379e8-1349-4a17-a5f9-45d5a4b4ebd1"
   },
   "outputs": [],
   "source": [
    "learn = cnn_learner(dls, resnet18, metrics = error_rate)\n",
    "learn.fine_tune(4)"
   ]
  },
  {
   "cell_type": "code",
   "execution_count": null,
   "metadata": {
    "colab": {
     "base_uri": "https://localhost:8080/",
     "height": 345
    },
    "id": "izsXN1OAoZzH",
    "outputId": "e8d330a5-42e3-4008-d8db-b67891a7298e"
   },
   "outputs": [],
   "source": [
    "interp = ClassificationInterpretation.from_learner(learn)\n",
    "interp.plot_confusion_matrix()"
   ]
  },
  {
   "cell_type": "code",
   "execution_count": null,
   "metadata": {
    "colab": {
     "base_uri": "https://localhost:8080/",
     "height": 585
    },
    "id": "JO9Z-UAStGDx",
    "outputId": "1802e219-b951-4222-c1d6-39832ade1cee"
   },
   "outputs": [],
   "source": [
    "interp.plot_top_losses(5, nrows=3)"
   ]
  },
  {
   "cell_type": "code",
   "execution_count": null,
   "metadata": {
    "colab": {
     "base_uri": "https://localhost:8080/"
    },
    "id": "bJyWAHP8tTK5",
    "outputId": "57bc2161-0477-4dc8-c0cb-912e10bae1ce"
   },
   "outputs": [],
   "source": [
    "help(plot_top_losses)"
   ]
  },
  {
   "cell_type": "code",
   "execution_count": null,
   "metadata": {
    "id": "A5FZGHuiuNKB"
   },
   "outputs": [],
   "source": [
    "learn.export()"
   ]
  },
  {
   "cell_type": "code",
   "execution_count": null,
   "metadata": {
    "colab": {
     "base_uri": "https://localhost:8080/"
    },
    "id": "v_H3jfcI0L7P",
    "outputId": "72d44381-2cde-4017-ba43-65fd3524006e"
   },
   "outputs": [],
   "source": [
    "path = Path()\n",
    "path.ls(file_exts='.pkl')"
   ]
  },
  {
   "cell_type": "code",
   "execution_count": null,
   "metadata": {
    "id": "ayshLtjY0QFW"
   },
   "outputs": [],
   "source": [
    "learn_inf = load_learner(path/'export.pkl')"
   ]
  },
  {
   "cell_type": "markdown",
   "metadata": {
    "id": "Zf1oKMKzkGUy"
   },
   "source": []
  },
  {
   "cell_type": "code",
   "execution_count": null,
   "metadata": {
    "colab": {
     "base_uri": "https://localhost:8080/",
     "height": 49,
     "referenced_widgets": [
      "7813dc8b5a9b4f7aaf79ee5913020703",
      "5196689100d74cae875d6a01c60fce09",
      "2d3cfadf555c4033a0e837179c119957"
     ]
    },
    "id": "liVWtG2k3MkI",
    "outputId": "c6cb67c5-dea5-4724-b31c-51599a8591ab"
   },
   "outputs": [],
   "source": [
    "btn_upload = widgets.FileUpload()\n",
    "btn_upload"
   ]
  },
  {
   "cell_type": "code",
   "execution_count": null,
   "metadata": {
    "id": "peaTMwE_3PsJ"
   },
   "outputs": [],
   "source": [
    "img = PILImage.create(btn_upload.data[-1])"
   ]
  },
  {
   "cell_type": "code",
   "execution_count": null,
   "metadata": {
    "colab": {
     "base_uri": "https://localhost:8080/",
     "height": 84,
     "referenced_widgets": [
      "4ca0d8910f5d4bde9f1e46efce583aff",
      "fa33629884064629bec563a8ed87c16b"
     ]
    },
    "id": "-z2v8W9L3dS9",
    "outputId": "ae27f2df-7441-4288-c4c9-7d0529a66072"
   },
   "outputs": [],
   "source": [
    "out_pl = widgets.Output()\n",
    "out_pl.clear_output()\n",
    "with out_pl: display(img.to_thumb(128,128))\n",
    "out_pl"
   ]
  },
  {
   "cell_type": "code",
   "execution_count": null,
   "metadata": {
    "colab": {
     "base_uri": "https://localhost:8080/",
     "height": 49,
     "referenced_widgets": [
      "1f7d7637fc6240928e3bf45f8c7b6247",
      "ec71107d47dd423b9af32081dd036843",
      "509f6aa0258448f6b41a456f16962202"
     ]
    },
    "id": "hU4fWawr3hfr",
    "outputId": "529c07a9-0fbf-44d8-fefa-d7ccf118de79"
   },
   "outputs": [],
   "source": [
    "pred,pred_idx,probs = learn_inf.predict(img)\n",
    "lbl_pred = widgets.Label()\n",
    "lbl_pred.value = f'Prediction: {pred}; Probability: {probs[pred_idx]:.04f}'\n",
    "lbl_pred"
   ]
  },
  {
   "cell_type": "code",
   "execution_count": null,
   "metadata": {
    "colab": {
     "base_uri": "https://localhost:8080/",
     "height": 49,
     "referenced_widgets": [
      "cf8d4fc7bfa64ded9b5634e34509362f",
      "bc585dbe5b9e4655a67096c6cf2bdde7",
      "34b17740a0d5457ea6d2c3373bfef3fa"
     ]
    },
    "id": "-KRwuqqc3rM8",
    "outputId": "ced5434e-18ea-4d58-875d-eb7e06041800"
   },
   "outputs": [],
   "source": [
    "btn_run = widgets.Button(description='Classify')\n",
    "btn_run"
   ]
  },
  {
   "cell_type": "code",
   "execution_count": null,
   "metadata": {
    "id": "08OGOWqT3xl3"
   },
   "outputs": [],
   "source": [
    "def on_click_classify(change):\n",
    "  img= PILImage.create(btn_upload.data[-1])\n",
    "  out_pl.clear_output()\n",
    "  with out_pl: display(img.to_thumb(128,128))\n",
    "  pred, pred_idx, probs = learn_inf.predict(img)\n",
    "  lbl_pred.value = f'Prediction: {pred}; Probability: {probs[pred_idx]:.04f}'\n",
    "\n",
    "btn_run.on_click(on_click_classify)"
   ]
  },
  {
   "cell_type": "code",
   "execution_count": null,
   "metadata": {
    "colab": {
     "base_uri": "https://localhost:8080/",
     "height": 212,
     "referenced_widgets": [
      "ad90f4ab727b4147a5bcaa607673e95f",
      "b45425f2e5d646cca2c4adfb00d81ea1",
      "8a6ed737fb7b44dfbb9ca43abc494334",
      "ec37cd2e20c546fa86b931b82f75a5e4",
      "cf8d4fc7bfa64ded9b5634e34509362f",
      "4ca0d8910f5d4bde9f1e46efce583aff",
      "1f7d7637fc6240928e3bf45f8c7b6247",
      "94ded6d509514bec8f11f8791c00c71b",
      "5c638e10df1e4d96b7d62cbf39f45d4b",
      "0fce2e334f434f2096b7a4280ae2dffa",
      "b8ade50d2b6642deaf3a00bdb0b9642e",
      "bc585dbe5b9e4655a67096c6cf2bdde7",
      "34b17740a0d5457ea6d2c3373bfef3fa",
      "ec71107d47dd423b9af32081dd036843",
      "509f6aa0258448f6b41a456f16962202",
      "fa33629884064629bec563a8ed87c16b"
     ]
    },
    "id": "IbDg4xwk4Rqp",
    "outputId": "77477469-4bd4-4bc9-b9b8-ffd2bc21b7b0"
   },
   "outputs": [],
   "source": [
    "btn_upload = widgets.FileUpload()\n",
    "VBox([widgets.Label('Upload a picture of a dog!'), \n",
    "      btn_upload, btn_run, out_pl, lbl_pred])"
   ]
  }
 ],
 "metadata": {
  "accelerator": "GPU",
  "colab": {
   "name": "DogBreeds.ipynb",
   "provenance": []
  },
  "kernelspec": {
   "display_name": "Python 3",
   "language": "python",
   "name": "python3"
  },
  "language_info": {
   "codemirror_mode": {
    "name": "ipython",
    "version": 3
   },
   "file_extension": ".py",
   "mimetype": "text/x-python",
   "name": "python",
   "nbconvert_exporter": "python",
   "pygments_lexer": "ipython3",
   "version": "3.8.5"
  },
  "widgets": {
   "application/vnd.jupyter.widget-state+json": {
    "0fce2e334f434f2096b7a4280ae2dffa": {
     "model_module": "@jupyter-widgets/controls",
     "model_name": "ButtonStyleModel",
     "state": {
      "_model_module": "@jupyter-widgets/controls",
      "_model_module_version": "1.5.0",
      "_model_name": "ButtonStyleModel",
      "_view_count": null,
      "_view_module": "@jupyter-widgets/base",
      "_view_module_version": "1.2.0",
      "_view_name": "StyleView",
      "button_color": null,
      "font_weight": ""
     }
    },
    "1f7d7637fc6240928e3bf45f8c7b6247": {
     "model_module": "@jupyter-widgets/controls",
     "model_name": "LabelModel",
     "state": {
      "_dom_classes": [],
      "_model_module": "@jupyter-widgets/controls",
      "_model_module_version": "1.5.0",
      "_model_name": "LabelModel",
      "_view_count": null,
      "_view_module": "@jupyter-widgets/controls",
      "_view_module_version": "1.5.0",
      "_view_name": "LabelView",
      "description": "",
      "description_tooltip": null,
      "layout": "IPY_MODEL_509f6aa0258448f6b41a456f16962202",
      "placeholder": "​",
      "style": "IPY_MODEL_ec71107d47dd423b9af32081dd036843",
      "value": "Prediction: Dobermann; Probability: 0.9980"
     }
    },
    "2d3cfadf555c4033a0e837179c119957": {
     "model_module": "@jupyter-widgets/base",
     "model_name": "LayoutModel",
     "state": {
      "_model_module": "@jupyter-widgets/base",
      "_model_module_version": "1.2.0",
      "_model_name": "LayoutModel",
      "_view_count": null,
      "_view_module": "@jupyter-widgets/base",
      "_view_module_version": "1.2.0",
      "_view_name": "LayoutView",
      "align_content": null,
      "align_items": null,
      "align_self": null,
      "border": null,
      "bottom": null,
      "display": null,
      "flex": null,
      "flex_flow": null,
      "grid_area": null,
      "grid_auto_columns": null,
      "grid_auto_flow": null,
      "grid_auto_rows": null,
      "grid_column": null,
      "grid_gap": null,
      "grid_row": null,
      "grid_template_areas": null,
      "grid_template_columns": null,
      "grid_template_rows": null,
      "height": null,
      "justify_content": null,
      "justify_items": null,
      "left": null,
      "margin": null,
      "max_height": null,
      "max_width": null,
      "min_height": null,
      "min_width": null,
      "object_fit": null,
      "object_position": null,
      "order": null,
      "overflow": null,
      "overflow_x": null,
      "overflow_y": null,
      "padding": null,
      "right": null,
      "top": null,
      "visibility": null,
      "width": null
     }
    },
    "34b17740a0d5457ea6d2c3373bfef3fa": {
     "model_module": "@jupyter-widgets/base",
     "model_name": "LayoutModel",
     "state": {
      "_model_module": "@jupyter-widgets/base",
      "_model_module_version": "1.2.0",
      "_model_name": "LayoutModel",
      "_view_count": null,
      "_view_module": "@jupyter-widgets/base",
      "_view_module_version": "1.2.0",
      "_view_name": "LayoutView",
      "align_content": null,
      "align_items": null,
      "align_self": null,
      "border": null,
      "bottom": null,
      "display": null,
      "flex": null,
      "flex_flow": null,
      "grid_area": null,
      "grid_auto_columns": null,
      "grid_auto_flow": null,
      "grid_auto_rows": null,
      "grid_column": null,
      "grid_gap": null,
      "grid_row": null,
      "grid_template_areas": null,
      "grid_template_columns": null,
      "grid_template_rows": null,
      "height": null,
      "justify_content": null,
      "justify_items": null,
      "left": null,
      "margin": null,
      "max_height": null,
      "max_width": null,
      "min_height": null,
      "min_width": null,
      "object_fit": null,
      "object_position": null,
      "order": null,
      "overflow": null,
      "overflow_x": null,
      "overflow_y": null,
      "padding": null,
      "right": null,
      "top": null,
      "visibility": null,
      "width": null
     }
    },
    "4ca0d8910f5d4bde9f1e46efce583aff": {
     "model_module": "@jupyter-widgets/output",
     "model_name": "OutputModel",
     "state": {
      "_dom_classes": [],
      "_model_module": "@jupyter-widgets/output",
      "_model_module_version": "1.0.0",
      "_model_name": "OutputModel",
      "_view_count": null,
      "_view_module": "@jupyter-widgets/output",
      "_view_module_version": "1.0.0",
      "_view_name": "OutputView",
      "layout": "IPY_MODEL_fa33629884064629bec563a8ed87c16b",
      "msg_id": "",
      "outputs": [
       {
        "image/png": "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\n",
        "metadata": {
         "tags": []
        },
        "output_type": "display_data",
        "text/plain": "<PIL.Image.Image image mode=RGB size=128x67 at 0x7F22D31D2B00>"
       }
      ]
     }
    },
    "509f6aa0258448f6b41a456f16962202": {
     "model_module": "@jupyter-widgets/base",
     "model_name": "LayoutModel",
     "state": {
      "_model_module": "@jupyter-widgets/base",
      "_model_module_version": "1.2.0",
      "_model_name": "LayoutModel",
      "_view_count": null,
      "_view_module": "@jupyter-widgets/base",
      "_view_module_version": "1.2.0",
      "_view_name": "LayoutView",
      "align_content": null,
      "align_items": null,
      "align_self": null,
      "border": null,
      "bottom": null,
      "display": null,
      "flex": null,
      "flex_flow": null,
      "grid_area": null,
      "grid_auto_columns": null,
      "grid_auto_flow": null,
      "grid_auto_rows": null,
      "grid_column": null,
      "grid_gap": null,
      "grid_row": null,
      "grid_template_areas": null,
      "grid_template_columns": null,
      "grid_template_rows": null,
      "height": null,
      "justify_content": null,
      "justify_items": null,
      "left": null,
      "margin": null,
      "max_height": null,
      "max_width": null,
      "min_height": null,
      "min_width": null,
      "object_fit": null,
      "object_position": null,
      "order": null,
      "overflow": null,
      "overflow_x": null,
      "overflow_y": null,
      "padding": null,
      "right": null,
      "top": null,
      "visibility": null,
      "width": null
     }
    },
    "5196689100d74cae875d6a01c60fce09": {
     "model_module": "@jupyter-widgets/controls",
     "model_name": "ButtonStyleModel",
     "state": {
      "_model_module": "@jupyter-widgets/controls",
      "_model_module_version": "1.5.0",
      "_model_name": "ButtonStyleModel",
      "_view_count": null,
      "_view_module": "@jupyter-widgets/base",
      "_view_module_version": "1.2.0",
      "_view_name": "StyleView",
      "button_color": null,
      "font_weight": ""
     }
    },
    "5c638e10df1e4d96b7d62cbf39f45d4b": {
     "model_module": "@jupyter-widgets/base",
     "model_name": "LayoutModel",
     "state": {
      "_model_module": "@jupyter-widgets/base",
      "_model_module_version": "1.2.0",
      "_model_name": "LayoutModel",
      "_view_count": null,
      "_view_module": "@jupyter-widgets/base",
      "_view_module_version": "1.2.0",
      "_view_name": "LayoutView",
      "align_content": null,
      "align_items": null,
      "align_self": null,
      "border": null,
      "bottom": null,
      "display": null,
      "flex": null,
      "flex_flow": null,
      "grid_area": null,
      "grid_auto_columns": null,
      "grid_auto_flow": null,
      "grid_auto_rows": null,
      "grid_column": null,
      "grid_gap": null,
      "grid_row": null,
      "grid_template_areas": null,
      "grid_template_columns": null,
      "grid_template_rows": null,
      "height": null,
      "justify_content": null,
      "justify_items": null,
      "left": null,
      "margin": null,
      "max_height": null,
      "max_width": null,
      "min_height": null,
      "min_width": null,
      "object_fit": null,
      "object_position": null,
      "order": null,
      "overflow": null,
      "overflow_x": null,
      "overflow_y": null,
      "padding": null,
      "right": null,
      "top": null,
      "visibility": null,
      "width": null
     }
    },
    "7813dc8b5a9b4f7aaf79ee5913020703": {
     "model_module": "@jupyter-widgets/controls",
     "model_name": "FileUploadModel",
     "state": {
      "_counter": 1,
      "_dom_classes": [],
      "_model_module": "@jupyter-widgets/controls",
      "_model_module_version": "1.5.0",
      "_model_name": "FileUploadModel",
      "_view_count": null,
      "_view_module": "@jupyter-widgets/controls",
      "_view_module_version": "1.5.0",
      "_view_name": "FileUploadView",
      "accept": "",
      "button_style": "",
      "data": [
       null
      ],
      "description": "Upload",
      "description_tooltip": null,
      "disabled": false,
      "error": "",
      "icon": "upload",
      "layout": "IPY_MODEL_2d3cfadf555c4033a0e837179c119957",
      "metadata": [
       {
        "lastModified": 1608479705577,
        "name": "maltese.jpg",
        "size": 35174,
        "type": "image/jpeg"
       }
      ],
      "multiple": false,
      "style": "IPY_MODEL_5196689100d74cae875d6a01c60fce09"
     }
    },
    "8a6ed737fb7b44dfbb9ca43abc494334": {
     "model_module": "@jupyter-widgets/controls",
     "model_name": "LabelModel",
     "state": {
      "_dom_classes": [],
      "_model_module": "@jupyter-widgets/controls",
      "_model_module_version": "1.5.0",
      "_model_name": "LabelModel",
      "_view_count": null,
      "_view_module": "@jupyter-widgets/controls",
      "_view_module_version": "1.5.0",
      "_view_name": "LabelView",
      "description": "",
      "description_tooltip": null,
      "layout": "IPY_MODEL_5c638e10df1e4d96b7d62cbf39f45d4b",
      "placeholder": "​",
      "style": "IPY_MODEL_94ded6d509514bec8f11f8791c00c71b",
      "value": "Upload a picture of a dog!"
     }
    },
    "94ded6d509514bec8f11f8791c00c71b": {
     "model_module": "@jupyter-widgets/controls",
     "model_name": "DescriptionStyleModel",
     "state": {
      "_model_module": "@jupyter-widgets/controls",
      "_model_module_version": "1.5.0",
      "_model_name": "DescriptionStyleModel",
      "_view_count": null,
      "_view_module": "@jupyter-widgets/base",
      "_view_module_version": "1.2.0",
      "_view_name": "StyleView",
      "description_width": ""
     }
    },
    "ad90f4ab727b4147a5bcaa607673e95f": {
     "model_module": "@jupyter-widgets/controls",
     "model_name": "VBoxModel",
     "state": {
      "_dom_classes": [],
      "_model_module": "@jupyter-widgets/controls",
      "_model_module_version": "1.5.0",
      "_model_name": "VBoxModel",
      "_view_count": null,
      "_view_module": "@jupyter-widgets/controls",
      "_view_module_version": "1.5.0",
      "_view_name": "VBoxView",
      "box_style": "",
      "children": [
       "IPY_MODEL_8a6ed737fb7b44dfbb9ca43abc494334",
       "IPY_MODEL_ec37cd2e20c546fa86b931b82f75a5e4",
       "IPY_MODEL_cf8d4fc7bfa64ded9b5634e34509362f",
       "IPY_MODEL_4ca0d8910f5d4bde9f1e46efce583aff",
       "IPY_MODEL_1f7d7637fc6240928e3bf45f8c7b6247"
      ],
      "layout": "IPY_MODEL_b45425f2e5d646cca2c4adfb00d81ea1"
     }
    },
    "b45425f2e5d646cca2c4adfb00d81ea1": {
     "model_module": "@jupyter-widgets/base",
     "model_name": "LayoutModel",
     "state": {
      "_model_module": "@jupyter-widgets/base",
      "_model_module_version": "1.2.0",
      "_model_name": "LayoutModel",
      "_view_count": null,
      "_view_module": "@jupyter-widgets/base",
      "_view_module_version": "1.2.0",
      "_view_name": "LayoutView",
      "align_content": null,
      "align_items": null,
      "align_self": null,
      "border": null,
      "bottom": null,
      "display": null,
      "flex": null,
      "flex_flow": null,
      "grid_area": null,
      "grid_auto_columns": null,
      "grid_auto_flow": null,
      "grid_auto_rows": null,
      "grid_column": null,
      "grid_gap": null,
      "grid_row": null,
      "grid_template_areas": null,
      "grid_template_columns": null,
      "grid_template_rows": null,
      "height": null,
      "justify_content": null,
      "justify_items": null,
      "left": null,
      "margin": null,
      "max_height": null,
      "max_width": null,
      "min_height": null,
      "min_width": null,
      "object_fit": null,
      "object_position": null,
      "order": null,
      "overflow": null,
      "overflow_x": null,
      "overflow_y": null,
      "padding": null,
      "right": null,
      "top": null,
      "visibility": null,
      "width": null
     }
    },
    "b8ade50d2b6642deaf3a00bdb0b9642e": {
     "model_module": "@jupyter-widgets/base",
     "model_name": "LayoutModel",
     "state": {
      "_model_module": "@jupyter-widgets/base",
      "_model_module_version": "1.2.0",
      "_model_name": "LayoutModel",
      "_view_count": null,
      "_view_module": "@jupyter-widgets/base",
      "_view_module_version": "1.2.0",
      "_view_name": "LayoutView",
      "align_content": null,
      "align_items": null,
      "align_self": null,
      "border": null,
      "bottom": null,
      "display": null,
      "flex": null,
      "flex_flow": null,
      "grid_area": null,
      "grid_auto_columns": null,
      "grid_auto_flow": null,
      "grid_auto_rows": null,
      "grid_column": null,
      "grid_gap": null,
      "grid_row": null,
      "grid_template_areas": null,
      "grid_template_columns": null,
      "grid_template_rows": null,
      "height": null,
      "justify_content": null,
      "justify_items": null,
      "left": null,
      "margin": null,
      "max_height": null,
      "max_width": null,
      "min_height": null,
      "min_width": null,
      "object_fit": null,
      "object_position": null,
      "order": null,
      "overflow": null,
      "overflow_x": null,
      "overflow_y": null,
      "padding": null,
      "right": null,
      "top": null,
      "visibility": null,
      "width": null
     }
    },
    "bc585dbe5b9e4655a67096c6cf2bdde7": {
     "model_module": "@jupyter-widgets/controls",
     "model_name": "ButtonStyleModel",
     "state": {
      "_model_module": "@jupyter-widgets/controls",
      "_model_module_version": "1.5.0",
      "_model_name": "ButtonStyleModel",
      "_view_count": null,
      "_view_module": "@jupyter-widgets/base",
      "_view_module_version": "1.2.0",
      "_view_name": "StyleView",
      "button_color": null,
      "font_weight": ""
     }
    },
    "cf8d4fc7bfa64ded9b5634e34509362f": {
     "model_module": "@jupyter-widgets/controls",
     "model_name": "ButtonModel",
     "state": {
      "_dom_classes": [],
      "_model_module": "@jupyter-widgets/controls",
      "_model_module_version": "1.5.0",
      "_model_name": "ButtonModel",
      "_view_count": null,
      "_view_module": "@jupyter-widgets/controls",
      "_view_module_version": "1.5.0",
      "_view_name": "ButtonView",
      "button_style": "",
      "description": "Classify",
      "disabled": false,
      "icon": "",
      "layout": "IPY_MODEL_34b17740a0d5457ea6d2c3373bfef3fa",
      "style": "IPY_MODEL_bc585dbe5b9e4655a67096c6cf2bdde7",
      "tooltip": ""
     }
    },
    "ec37cd2e20c546fa86b931b82f75a5e4": {
     "model_module": "@jupyter-widgets/controls",
     "model_name": "FileUploadModel",
     "state": {
      "_counter": 2,
      "_dom_classes": [],
      "_model_module": "@jupyter-widgets/controls",
      "_model_module_version": "1.5.0",
      "_model_name": "FileUploadModel",
      "_view_count": null,
      "_view_module": "@jupyter-widgets/controls",
      "_view_module_version": "1.5.0",
      "_view_name": "FileUploadView",
      "accept": "",
      "button_style": "",
      "data": [
       null
      ],
      "description": "Upload",
      "description_tooltip": null,
      "disabled": false,
      "error": "",
      "icon": "upload",
      "layout": "IPY_MODEL_b8ade50d2b6642deaf3a00bdb0b9642e",
      "metadata": [
       {
        "lastModified": 1608479211660,
        "name": "dobermann.jpg",
        "size": 154922,
        "type": "image/jpeg"
       }
      ],
      "multiple": false,
      "style": "IPY_MODEL_0fce2e334f434f2096b7a4280ae2dffa"
     }
    },
    "ec71107d47dd423b9af32081dd036843": {
     "model_module": "@jupyter-widgets/controls",
     "model_name": "DescriptionStyleModel",
     "state": {
      "_model_module": "@jupyter-widgets/controls",
      "_model_module_version": "1.5.0",
      "_model_name": "DescriptionStyleModel",
      "_view_count": null,
      "_view_module": "@jupyter-widgets/base",
      "_view_module_version": "1.2.0",
      "_view_name": "StyleView",
      "description_width": ""
     }
    },
    "fa33629884064629bec563a8ed87c16b": {
     "model_module": "@jupyter-widgets/base",
     "model_name": "LayoutModel",
     "state": {
      "_model_module": "@jupyter-widgets/base",
      "_model_module_version": "1.2.0",
      "_model_name": "LayoutModel",
      "_view_count": null,
      "_view_module": "@jupyter-widgets/base",
      "_view_module_version": "1.2.0",
      "_view_name": "LayoutView",
      "align_content": null,
      "align_items": null,
      "align_self": null,
      "border": null,
      "bottom": null,
      "display": null,
      "flex": null,
      "flex_flow": null,
      "grid_area": null,
      "grid_auto_columns": null,
      "grid_auto_flow": null,
      "grid_auto_rows": null,
      "grid_column": null,
      "grid_gap": null,
      "grid_row": null,
      "grid_template_areas": null,
      "grid_template_columns": null,
      "grid_template_rows": null,
      "height": null,
      "justify_content": null,
      "justify_items": null,
      "left": null,
      "margin": null,
      "max_height": null,
      "max_width": null,
      "min_height": null,
      "min_width": null,
      "object_fit": null,
      "object_position": null,
      "order": null,
      "overflow": null,
      "overflow_x": null,
      "overflow_y": null,
      "padding": null,
      "right": null,
      "top": null,
      "visibility": null,
      "width": null
     }
    }
   }
  }
 },
 "nbformat": 4,
 "nbformat_minor": 1
}
